{
 "cells": [
  {
   "cell_type": "code",
   "execution_count": 1,
   "metadata": {},
   "outputs": [],
   "source": [
    "import pandas as pd\n",
    "import sqlite3"
   ]
  },
  {
   "cell_type": "code",
   "execution_count": 2,
   "metadata": {},
   "outputs": [],
   "source": [
    "df = pd.read_parquet(\"../output\\zonaprop_venta_departamentos_2024-03-11_09-43-16.pkt\")\n",
    "df['Features'] = df['Features'].apply(lambda x: str(x))\n",
    "conn = sqlite3.connect('zonaprop_venta_departamentos.db')\n",
    "df.to_sql('ventas_departamentos', conn, if_exists='replace', index=False)\n",
    "query = \"SELECT * FROM ventas_departamentos\"\n",
    "df = pd.read_sql_query(query, conn)\n",
    "conn.close()"
   ]
  }
 ],
 "metadata": {
  "kernelspec": {
   "display_name": ".venv",
   "language": "python",
   "name": "python3"
  },
  "language_info": {
   "codemirror_mode": {
    "name": "ipython",
    "version": 3
   },
   "file_extension": ".py",
   "mimetype": "text/x-python",
   "name": "python",
   "nbconvert_exporter": "python",
   "pygments_lexer": "ipython3",
   "version": "3.10.9"
  }
 },
 "nbformat": 4,
 "nbformat_minor": 2
}
