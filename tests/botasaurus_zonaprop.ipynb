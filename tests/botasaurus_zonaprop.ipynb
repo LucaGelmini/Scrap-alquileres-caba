{
 "cells": [
  {
   "cell_type": "code",
   "execution_count": 1,
   "metadata": {},
   "outputs": [
    {
     "name": "stdout",
     "output_type": "stream",
     "text": [
      "c:\\Users\\marti\\OneDrive\\Documentos\\Trabajos Indec\\Scrap alquileres caba\n"
     ]
    }
   ],
   "source": [
    "from config.config_jupyter import set_wd\n",
    "set_wd()\n",
    "import src.zonaprop as zo\n",
    "from botasaurus import *\n",
    "import numpy as np"
   ]
  },
  {
   "cell_type": "code",
   "execution_count": 2,
   "metadata": {},
   "outputs": [],
   "source": [
    "url_list = zo._get_url_list(2, \"departamentos\", \"alquiler\")\n",
    "link = url_list[0]"
   ]
  },
  {
   "cell_type": "code",
   "execution_count": 3,
   "metadata": {},
   "outputs": [],
   "source": [
    "request = AntiDetectRequests()"
   ]
  },
  {
   "cell_type": "code",
   "execution_count": 9,
   "metadata": {},
   "outputs": [],
   "source": [
    "soup = request.bs4(link)\n",
    "posting_container_class = zo._get_posting_container_class(soup)\n",
    "# _parse_property_listings"
   ]
  },
  {
   "cell_type": "code",
   "execution_count": 15,
   "metadata": {},
   "outputs": [],
   "source": [
    "property_elements = soup.find_all(class_ = posting_container_class) #this should be a list with each posting_container class element\n",
    "properties = []\n",
    "for property_element in property_elements:\n",
    "    try:\n",
    "        properties.append(zo._parse_property(property_element))\n",
    "        # print(\"Se appendio la propiedad\", properties)\n",
    "        if len(properties == 0):\n",
    "            print(\"be aware of the div selected in the soup, it usually changes.\") #this should already be solved\n",
    "            break\n",
    "    except Exception:\n",
    "        # print(\"No se appendio ninguna propiedad\")\n",
    "        #There are 'Developing' buildings with a range of prices. \n",
    "        pass"
   ]
  },
  {
   "cell_type": "code",
   "execution_count": 54,
   "metadata": {},
   "outputs": [],
   "source": [
    "element = property_elements[0]\n",
    "\n",
    "id_element = property_element.find(attrs={\"data-id\": True})['data-id']\n",
    "price_element = property_element.find(attrs={\"data-qa\":\"POSTING_CARD_PRICE\"}).text\n",
    "location_element = property_element.find(attrs={'data-qa': 'POSTING_CARD_LOCATION'}).text\n",
    "address_element = property_element.find(class_='postingAddress').text\n",
    "features_elements = [span.text for span in property_element.find(attrs={'data-qa': 'POSTING_CARD_FEATURES'}).find_all('span')]\n",
    "description_element = property_element.find(attrs={'data-qa': 'POSTING_CARD_DESCRIPTION'}).text\n",
    "expensas_element = property_element.find(attrs={'data-qa': 'expensas'}).text\n",
    "ap_link_element = property_element.find(attrs={\"data-to-posting\": True})['data-to-posting']"
   ]
  },
  {
   "cell_type": "code",
   "execution_count": 52,
   "metadata": {},
   "outputs": [],
   "source": []
  },
  {
   "cell_type": "code",
   "execution_count": 55,
   "metadata": {},
   "outputs": [],
   "source": [
    "zona_prop_url = \"https://www.zonaprop.com.ar/\""
   ]
  },
  {
   "cell_type": "code",
   "execution_count": 57,
   "metadata": {},
   "outputs": [
    {
     "data": {
      "text/plain": [
       "{'id': '52954359',\n",
       " 'Price': 'USD 5.500',\n",
       " 'Location': 'Belgrano, Capital Federal',\n",
       " 'Address': '3 de Febrero al 1400',\n",
       " 'Features': ['280 m² tot.', '4 amb.', '3 dorm.', '3 baños', '3 coch.'],\n",
       " 'Description': 'Piso en torre. Construcción Aisenson. Living comedor. Escritorio o 4° dormitorio. 3 dormitorios en suite. Principal con vestidor. 3 baños completos. Toilette. Cocina y comedor diario. Lavadero y dependencia. 3 cocheras fijas. Pileta, sum, parrilla y gimnasio. Vigilancia 24hs. Alquiler U$S 5. 500 más gastoscucicba N°3444 - cmcpsi N°5998 ',\n",
       " 'Expensas': '$ 631.000 Expensas',\n",
       " 'Link': 'https://www.zonaprop.com.ar/propiedades/clasificado/alclapin-3-de-febrero-1400-piso-en-torre-aisenson-3-dorm.-suite-52954359.html'}"
      ]
     },
     "execution_count": 57,
     "metadata": {},
     "output_type": "execute_result"
    }
   ],
   "source": [
    "{\n",
    "        'id': id_element if id_element else np.nan,\n",
    "        'Price': price_element if price_element else np.nan,\n",
    "        'Location': location_element if location_element else np.nan,\n",
    "        'Address': address_element if address_element else np.nan,\n",
    "        # 'Has_photo': has_photo,\n",
    "        'Features': [feature_element for feature_element in features_elements],\n",
    "        # 'Summarize': summarize_element if summarize_element else np.nan,\n",
    "        'Description': description_element if description_element else np.nan,\n",
    "        'Expensas': expensas_element if expensas_element else np.nan,\n",
    "        'Link': zona_prop_url[:-1] + ap_link_element if ap_link_element else np.nan,\n",
    "    }"
   ]
  },
  {
   "cell_type": "code",
   "execution_count": 58,
   "metadata": {},
   "outputs": [
    {
     "data": {
      "text/plain": [
       "'/propiedades/clasificado/alclapin-3-de-febrero-1400-piso-en-torre-aisenson-3-dorm.-suite-52954359.html'"
      ]
     },
     "execution_count": 58,
     "metadata": {},
     "output_type": "execute_result"
    }
   ],
   "source": [
    "ap_link_element"
   ]
  }
 ],
 "metadata": {
  "kernelspec": {
   "display_name": ".venv",
   "language": "python",
   "name": "python3"
  },
  "language_info": {
   "codemirror_mode": {
    "name": "ipython",
    "version": 3
   },
   "file_extension": ".py",
   "mimetype": "text/x-python",
   "name": "python",
   "nbconvert_exporter": "python",
   "pygments_lexer": "ipython3",
   "version": "3.10.9"
  }
 },
 "nbformat": 4,
 "nbformat_minor": 2
}
