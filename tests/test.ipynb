{
 "cells": [
  {
   "cell_type": "code",
   "execution_count": 1,
   "metadata": {},
   "outputs": [],
   "source": [
    "from config.config_jupyter import set_wd\n",
    "set_wd()\n",
    "from src.zonaprop import main_scrap_zonaprop"
   ]
  },
  {
   "cell_type": "code",
   "execution_count": 2,
   "metadata": {},
   "outputs": [
    {
     "name": "stdout",
     "output_type": "stream",
     "text": [
      "/departamentos-alquiler-capital-federal-pagina-2.html\n",
      "/departamentos-alquiler-capital-federal-pagina-3.html\n",
      "/departamentos-alquiler-capital-federal-pagina-4.html\n",
      "/departamentos-alquiler-capital-federal-pagina-5.html\n"
     ]
    }
   ],
   "source": [
    "test = main_scrap_zonaprop(export_final_results=True)"
   ]
  }
 ],
 "metadata": {
  "kernelspec": {
   "display_name": "my-proj",
   "language": "python",
   "name": "python3"
  },
  "language_info": {
   "codemirror_mode": {
    "name": "ipython",
    "version": 3
   },
   "file_extension": ".py",
   "mimetype": "text/x-python",
   "name": "python",
   "nbconvert_exporter": "python",
   "pygments_lexer": "ipython3",
   "version": "3.11.3"
  }
 },
 "nbformat": 4,
 "nbformat_minor": 2
}
