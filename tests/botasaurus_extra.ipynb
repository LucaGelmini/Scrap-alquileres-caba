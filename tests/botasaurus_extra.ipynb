{
 "cells": [
  {
   "cell_type": "markdown",
   "metadata": {},
   "source": [
    "This is an attempt to find the publication date of each publication.\n",
    "\n",
    "Problem: too many publications that takes a big ammount of time to run. Also, it has JavaScript, so it needs to be run by a Selenium Driver. "
   ]
  },
  {
   "cell_type": "code",
   "execution_count": 1,
   "metadata": {},
   "outputs": [],
   "source": [
    "from bs4 import BeautifulSoup\n",
    "import pandas as pd\n",
    "import numpy as np\n",
    "from botasaurus import *\n",
    "import os\n",
    "import time\n",
    "import requests\n",
    "from tqdm import tqdm\n",
    "from config.config_jupyter import set_wd\n",
    "set_wd()\n",
    "from src.constants import zona_prop_url"
   ]
  },
  {
   "cell_type": "code",
   "execution_count": 2,
   "metadata": {},
   "outputs": [],
   "source": [
    "df = pd.read_parquet(\"output/zonaprop.pkt\")"
   ]
  },
  {
   "cell_type": "code",
   "execution_count": null,
   "metadata": {},
   "outputs": [],
   "source": [
    "from selenium.common.exceptions import WebDriverException\n",
    "\n",
    "@browser\n",
    "def scrap_info_extra_zonaprop(driver: AntiDetectDriver, url: str):\n",
    "    retries = 0\n",
    "    while True:\n",
    "        try:\n",
    "            driver.get(url)\n",
    "            publ_vis = driver.text_xpath('//*[@id=\"user-views\"]/div/div/p')\n",
    "            tipo = driver.text_xpath('//*[@id=\"article-container\"]/h2')\n",
    "            driver._enable_network() # Assuming this method is correctly defined in the driver\n",
    "            return {'publ_vis': publ_vis, 'tipo': tipo}\n",
    "        except WebDriverException as e:\n",
    "            # print(f\"An error occurred: {str(e)}. Retrying...\")\n",
    "            retries += 1\n",
    "            # print(\"n_fallas\", retries)\n",
    "\n",
    "\n",
    "urls = df['Link'].tolist() # Convert the 'Link' column to a list\n",
    "reintentos = 0\n",
    "while True:\n",
    "    try:\n",
    "        results = scrap_info_extra_zonaprop(parallel=bt.calc_max_parallel_browsers,\n",
    "                                            data=urls,\n",
    "                                            block_resources=True,\n",
    "                                            cache = True,\n",
    "                                            keep_drivers_alive=False, \n",
    "                                            headless=True,\n",
    "                                            )\n",
    "    except:\n",
    "        reintentos += 1\n",
    "        print(\"Reintentos\", reintentos)        \n",
    "\n",
    "# Add the scraped data to the dataframe\n",
    "df['publ_vis'] = [result['publ_vis'] for result in results]\n",
    "df['tipo'] = [result['tipo'] for result in results]"
   ]
  }
 ],
 "metadata": {
  "kernelspec": {
   "display_name": "my-proj",
   "language": "python",
   "name": "python3"
  },
  "language_info": {
   "codemirror_mode": {
    "name": "ipython",
    "version": 3
   },
   "file_extension": ".py",
   "mimetype": "text/x-python",
   "name": "python",
   "nbconvert_exporter": "python",
   "pygments_lexer": "ipython3",
   "version": "3.11.3"
  }
 },
 "nbformat": 4,
 "nbformat_minor": 2
}
