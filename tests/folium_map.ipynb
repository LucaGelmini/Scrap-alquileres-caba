{
 "cells": [
  {
   "cell_type": "markdown",
   "metadata": {},
   "source": [
    "Notas:\n",
    "- Debería ordenarlo según: \"2200, O'Higgins, Autonomous City of Buenos Aires\""
   ]
  },
  {
   "cell_type": "code",
   "execution_count": 1,
   "metadata": {},
   "outputs": [
    {
     "name": "stdout",
     "output_type": "stream",
     "text": [
      "c:\\Users\\marti\\OneDrive\\Documentos\\Trabajos Indec\\Scrap alquileres caba\n"
     ]
    }
   ],
   "source": [
    "import pandas as pd\n",
    "import folium\n",
    "from folium import Choropleth, Circle, Marker\n",
    "from folium.plugins import HeatMap, MarkerCluster\n",
    "from geopy.geocoders import Nominatim\n",
    "import re\n",
    "import requests\n",
    "import json\n",
    "import time\n",
    "from config.config_jupyter import set_wd\n",
    "set_wd()"
   ]
  },
  {
   "cell_type": "code",
   "execution_count": 2,
   "metadata": {},
   "outputs": [],
   "source": [
    "df = pd.read_parquet(\"output/zonaprop_vivienda.pkt\")"
   ]
  },
  {
   "cell_type": "code",
   "execution_count": 3,
   "metadata": {},
   "outputs": [
    {
     "data": {
      "text/plain": [
       "0                           O'higgins al 2200\n",
       "1       Tte. Gral. Juan Domingo Perón al 4300\n",
       "2                           AV. SANTA FE 2100\n",
       "3                        Av. Congreso al 1500\n",
       "4                 Av Chenaut al 1700 Piso 10º\n",
       "                        ...                  \n",
       "9390                              French 3000\n",
       "9391                   Teodoro Garcia al 2800\n",
       "9392                             Peña 2000 2°\n",
       "9393                             Avellaneda 0\n",
       "9394                            Esmeralda 629\n",
       "Name: Address, Length: 9395, dtype: object"
      ]
     },
     "execution_count": 3,
     "metadata": {},
     "output_type": "execute_result"
    }
   ],
   "source": [
    "df['Address']"
   ]
  },
  {
   "cell_type": "code",
   "execution_count": 10,
   "metadata": {},
   "outputs": [],
   "source": [
    "def rearrange_address(address):\n",
    "    # Use regular expression to find the number\n",
    "    match = re.search(r'\\d+', address)\n",
    "    \n",
    "    if match:\n",
    "        number = match.group()  # Extract the number\n",
    "        text = address.replace(number, '').strip()  # Remove the number from the address and strip extra spaces\n",
    "        return f\"{number}, {text}, Autonomous City of Buenos Aires\"\n",
    "    else:\n",
    "        return None  # If no number is found, return None or handle accordingly\n",
    "    \n",
    "df[\"Address\"] = (df['Address'].str.lower()\n",
    " .str.replace('al ', '')\n",
    " .str.split('piso ').str[0]\n",
    " .apply(lambda x: x.rsplit('°', 1)[0] if '°' in x else x)\n",
    " .apply(lambda x: rearrange_address(x))\n",
    " .str.split('entre ').str[0]\n",
    " .str.split('- ').str[0]\n",
    ")"
   ]
  },
  {
   "cell_type": "code",
   "execution_count": 5,
   "metadata": {},
   "outputs": [],
   "source": [
    "def get_coordinates(address):\n",
    "    # Replace spaces with + for URL encoding\n",
    "    address = address.replace(' ', '+')\n",
    "    \n",
    "    # Construct the API endpoint URL\n",
    "    url = f\"https://nominatim.openstreetmap.org/search?q={address}&format=jsonv2\"\n",
    "    \n",
    "    # Send a GET request to the API\n",
    "    response = requests.get(url)\n",
    "    \n",
    "    # Parse the JSON response\n",
    "    data = json.loads(response.text)\n",
    "    \n",
    "    # Get the first result\n",
    "    first_result = data[0] if data else None\n",
    "    \n",
    "    # Extract the latitude and longitude values\n",
    "    lat_long = [first_result['lat'], first_result['lon']] if first_result else None\n",
    "    \n",
    "    return lat_long\n"
   ]
  },
  {
   "cell_type": "code",
   "execution_count": 12,
   "metadata": {},
   "outputs": [
    {
     "data": {
      "text/plain": [
       "['-34.595686', '-58.3972726']"
      ]
     },
     "execution_count": 12,
     "metadata": {},
     "output_type": "execute_result"
    }
   ],
   "source": [
    "get_coordinates(df[\"Address\"][2])"
   ]
  },
  {
   "cell_type": "code",
   "execution_count": 13,
   "metadata": {},
   "outputs": [
    {
     "data": {
      "text/html": [
       "<div style=\"width:100%;\"><div style=\"position:relative;width:100%;height:0;padding-bottom:60%;\"><span style=\"color:#565656\">Make this Notebook Trusted to load map: File -> Trust Notebook</span><iframe srcdoc=\"&lt;!DOCTYPE html&gt;\n",
       "&lt;html&gt;\n",
       "&lt;head&gt;\n",
       "    \n",
       "    &lt;meta http-equiv=&quot;content-type&quot; content=&quot;text/html; charset=UTF-8&quot; /&gt;\n",
       "    \n",
       "        &lt;script&gt;\n",
       "            L_NO_TOUCH = false;\n",
       "            L_DISABLE_3D = false;\n",
       "        &lt;/script&gt;\n",
       "    \n",
       "    &lt;style&gt;html, body {width: 100%;height: 100%;margin: 0;padding: 0;}&lt;/style&gt;\n",
       "    &lt;style&gt;#map {position:absolute;top:0;bottom:0;right:0;left:0;}&lt;/style&gt;\n",
       "    &lt;script src=&quot;https://cdn.jsdelivr.net/npm/leaflet@1.9.3/dist/leaflet.js&quot;&gt;&lt;/script&gt;\n",
       "    &lt;script src=&quot;https://code.jquery.com/jquery-3.7.1.min.js&quot;&gt;&lt;/script&gt;\n",
       "    &lt;script src=&quot;https://cdn.jsdelivr.net/npm/bootstrap@5.2.2/dist/js/bootstrap.bundle.min.js&quot;&gt;&lt;/script&gt;\n",
       "    &lt;script src=&quot;https://cdnjs.cloudflare.com/ajax/libs/Leaflet.awesome-markers/2.0.2/leaflet.awesome-markers.js&quot;&gt;&lt;/script&gt;\n",
       "    &lt;link rel=&quot;stylesheet&quot; href=&quot;https://cdn.jsdelivr.net/npm/leaflet@1.9.3/dist/leaflet.css&quot;/&gt;\n",
       "    &lt;link rel=&quot;stylesheet&quot; href=&quot;https://cdn.jsdelivr.net/npm/bootstrap@5.2.2/dist/css/bootstrap.min.css&quot;/&gt;\n",
       "    &lt;link rel=&quot;stylesheet&quot; href=&quot;https://netdna.bootstrapcdn.com/bootstrap/3.0.0/css/bootstrap.min.css&quot;/&gt;\n",
       "    &lt;link rel=&quot;stylesheet&quot; href=&quot;https://cdn.jsdelivr.net/npm/@fortawesome/fontawesome-free@6.2.0/css/all.min.css&quot;/&gt;\n",
       "    &lt;link rel=&quot;stylesheet&quot; href=&quot;https://cdnjs.cloudflare.com/ajax/libs/Leaflet.awesome-markers/2.0.2/leaflet.awesome-markers.css&quot;/&gt;\n",
       "    &lt;link rel=&quot;stylesheet&quot; href=&quot;https://cdn.jsdelivr.net/gh/python-visualization/folium/folium/templates/leaflet.awesome.rotate.min.css&quot;/&gt;\n",
       "    \n",
       "            &lt;meta name=&quot;viewport&quot; content=&quot;width=device-width,\n",
       "                initial-scale=1.0, maximum-scale=1.0, user-scalable=no&quot; /&gt;\n",
       "            &lt;style&gt;\n",
       "                #map_dd8443c88327b38e27c44da8f0849200 {\n",
       "                    position: relative;\n",
       "                    width: 100.0%;\n",
       "                    height: 100.0%;\n",
       "                    left: 0.0%;\n",
       "                    top: 0.0%;\n",
       "                }\n",
       "                .leaflet-container { font-size: 1rem; }\n",
       "            &lt;/style&gt;\n",
       "        \n",
       "    &lt;script src=&quot;https://cdnjs.cloudflare.com/ajax/libs/leaflet.markercluster/1.1.0/leaflet.markercluster.js&quot;&gt;&lt;/script&gt;\n",
       "    &lt;link rel=&quot;stylesheet&quot; href=&quot;https://cdnjs.cloudflare.com/ajax/libs/leaflet.markercluster/1.1.0/MarkerCluster.css&quot;/&gt;\n",
       "    &lt;link rel=&quot;stylesheet&quot; href=&quot;https://cdnjs.cloudflare.com/ajax/libs/leaflet.markercluster/1.1.0/MarkerCluster.Default.css&quot;/&gt;\n",
       "&lt;/head&gt;\n",
       "&lt;body&gt;\n",
       "    \n",
       "    \n",
       "            &lt;div class=&quot;folium-map&quot; id=&quot;map_dd8443c88327b38e27c44da8f0849200&quot; &gt;&lt;/div&gt;\n",
       "        \n",
       "&lt;/body&gt;\n",
       "&lt;script&gt;\n",
       "    \n",
       "    \n",
       "            var map_dd8443c88327b38e27c44da8f0849200 = L.map(\n",
       "                &quot;map_dd8443c88327b38e27c44da8f0849200&quot;,\n",
       "                {\n",
       "                    center: [-34.6037, -58.3816],\n",
       "                    crs: L.CRS.EPSG3857,\n",
       "                    zoom: 13,\n",
       "                    zoomControl: true,\n",
       "                    preferCanvas: false,\n",
       "                }\n",
       "            );\n",
       "\n",
       "            \n",
       "\n",
       "        \n",
       "    \n",
       "            var tile_layer_f2411507c0f8b76e85988852b56d2d50 = L.tileLayer(\n",
       "                &quot;https://tile.openstreetmap.org/{z}/{x}/{y}.png&quot;,\n",
       "                {&quot;attribution&quot;: &quot;\\u0026copy; \\u003ca href=\\&quot;https://www.openstreetmap.org/copyright\\&quot;\\u003eOpenStreetMap\\u003c/a\\u003e contributors&quot;, &quot;detectRetina&quot;: false, &quot;maxNativeZoom&quot;: 19, &quot;maxZoom&quot;: 19, &quot;minZoom&quot;: 0, &quot;noWrap&quot;: false, &quot;opacity&quot;: 1, &quot;subdomains&quot;: &quot;abc&quot;, &quot;tms&quot;: false}\n",
       "            );\n",
       "        \n",
       "    \n",
       "            tile_layer_f2411507c0f8b76e85988852b56d2d50.addTo(map_dd8443c88327b38e27c44da8f0849200);\n",
       "        \n",
       "    \n",
       "            var marker_cluster_f13dda73b6da00b31a4685a0020d57f2 = L.markerClusterGroup(\n",
       "                {}\n",
       "            );\n",
       "        \n",
       "    \n",
       "            var marker_c74d2ced59909767b3388624d08f2749 = L.marker(\n",
       "                [-34.595686, -58.3972726],\n",
       "                {}\n",
       "            ).addTo(marker_cluster_f13dda73b6da00b31a4685a0020d57f2);\n",
       "        \n",
       "    \n",
       "            marker_cluster_f13dda73b6da00b31a4685a0020d57f2.addTo(map_dd8443c88327b38e27c44da8f0849200);\n",
       "        \n",
       "&lt;/script&gt;\n",
       "&lt;/html&gt;\" style=\"position:absolute;width:100%;height:100%;left:0;top:0;border:none !important;\" allowfullscreen webkitallowfullscreen mozallowfullscreen></iframe></div></div>"
      ],
      "text/plain": [
       "<folium.folium.Map at 0x2aaddd1f610>"
      ]
     },
     "execution_count": 13,
     "metadata": {},
     "output_type": "execute_result"
    }
   ],
   "source": [
    "# Más o menos tarda entre 3 y 4 días en hacerlo\n",
    "buenos_aires_map = folium.Map(location=[-34.6037, -58.3816], zoom_start=13)\n",
    "\n",
    "mc = MarkerCluster()\n",
    "# for idx, row in daytime_robberies.iterrows():\n",
    "#     if not math.isnan(row['Long']) and not math.isnan(row['Lat']):\n",
    "# mc.add_child(Marker(get_coordinates(df[\"Address\"][2])))\n",
    "for address in df[\"Address\"]:\n",
    "    time.sleep(1)\n",
    "    try:\n",
    "        mc.add_child(Marker(get_coordinates(address)))\n",
    "    except Exception:\n",
    "        pass\n",
    "buenos_aires_map.add_child(mc)\n",
    "# Display the map\n",
    "buenos_aires_map"
   ]
  }
 ],
 "metadata": {
  "kernelspec": {
   "display_name": ".venv",
   "language": "python",
   "name": "python3"
  },
  "language_info": {
   "codemirror_mode": {
    "name": "ipython",
    "version": 3
   },
   "file_extension": ".py",
   "mimetype": "text/x-python",
   "name": "python",
   "nbconvert_exporter": "python",
   "pygments_lexer": "ipython3",
   "version": "3.10.9"
  }
 },
 "nbformat": 4,
 "nbformat_minor": 2
}
